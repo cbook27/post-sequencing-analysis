{
 "cells": [
  {
   "attachments": {},
   "cell_type": "markdown",
   "metadata": {},
   "source": [
    "<h4>Import packages and define directories</h4>"
   ]
  },
  {
   "cell_type": "code",
   "execution_count": null,
   "metadata": {},
   "outputs": [],
   "source": [
    "import numpy as np, pandas as pd\n",
    "import post_sequencing_analysis as psa\n",
    "import os, re, glob\n",
    "from matplotlib import pyplot as plt\n",
    "\n",
    "## User defined variables listed here\n",
    "experimentID = 'b575x_230417-150636'\n",
    "\n",
    "\n",
    "## Create \"postsequence\" subdirectory in current folder, then switch to that subdirectory\n",
    "\n",
    "cwd = os.getcwd()\n",
    "isExist = os.path.exists(\".\\\\postsequence-\"+experimentID)\n",
    "\n",
    "if not isExist and \"postsequence\" not in cwd: # Prevents a chain of new directories\n",
    "    os.mkdir(\".\\\\postsequence-\"+experimentID)\n",
    "\n",
    "if os.path.basename(cwd) != \"postsequence\"+experimentID: # Change to postsequence directory if not already in it \n",
    "    os.chdir(\".\\\\postsequence-\"+experimentID)\n",
    "\n",
    "\n",
    "print(cwd)"
   ]
  },
  {
   "attachments": {},
   "cell_type": "markdown",
   "metadata": {},
   "source": [
    "Compile BCQC data into .csv\n",
    "\n",
    "User must define bcqc directory, e.g. <i>\"\\\\\\\\SequliteNAS2\\\\Experiments\\\\b575x_230417-150636\\\\Instrument\\\\bcqc\"</i>\n",
    "\n",
    "Only run this if you have not already created the bcqc csv!\n"
   ]
  },
  {
   "attachments": {},
   "cell_type": "markdown",
   "metadata": {},
   "source": [
    "Option A: Read directly from the original directories"
   ]
  },
  {
   "cell_type": "code",
   "execution_count": null,
   "metadata": {},
   "outputs": [],
   "source": [
    "## User defined variables listed here\n",
    "# Define your bcqc directory\n",
    "\n",
    "bcqc_dir = \"\\\\\\\\SequliteNAS2\\\\Experiments\\\\b575x_230417-150636\\\\Instrument\\\\bcqc\\\\Read1\"\n",
    "\n",
    "\n",
    "# Use \"bcqc_direct_read\" for one of the subdirectories of bcqc, either \"Read1\" or \"Index1\"\n",
    "# Be warned that this will be slow if you are running this function over a network\n",
    "\n",
    "df = psa.bcqc_direct_read(bcqc_dir)"
   ]
  },
  {
   "attachments": {},
   "cell_type": "markdown",
   "metadata": {},
   "source": [
    "If you have already created the .csv in the past, go ahead and load it in directly"
   ]
  },
  {
   "cell_type": "code",
   "execution_count": null,
   "metadata": {},
   "outputs": [],
   "source": [
    "## User defined variables listed here\n",
    "\n",
    "filename = \"bcqc-Read1.csv\"\n",
    "\n",
    "# Readout csv file\n",
    "\n",
    "df = pd.read_csv(filename)"
   ]
  },
  {
   "attachments": {},
   "cell_type": "markdown",
   "metadata": {},
   "source": [
    "Plot BCQC"
   ]
  },
  {
   "cell_type": "code",
   "execution_count": null,
   "metadata": {},
   "outputs": [],
   "source": [
    "fig, ax = psa.bcqc_mean_rfl_bylane(df,expID=experimentID)\n",
    "\n",
    "fig.savefig(\"example_graph.png\",dpi=300,format=\"png\")"
   ]
  },
  {
   "attachments": {},
   "cell_type": "markdown",
   "metadata": {},
   "source": [
    "Compile FBQC data into .csv"
   ]
  },
  {
   "cell_type": "code",
   "execution_count": null,
   "metadata": {},
   "outputs": [],
   "source": [
    "fbqc_dir = \"\\\\\\\\SequLiteNAS2\\\\Experiments\\\\b575x_230417-150636\\\\Instrument\\\\Index1\\\\OLA\"\n",
    "df = psa.fbqc_read(fbqc_dir)"
   ]
  },
  {
   "cell_type": "code",
   "execution_count": null,
   "metadata": {},
   "outputs": [],
   "source": [
    "df = pd.read_csv(\"fbqc-Index1.csv\")\n"
   ]
  },
  {
   "cell_type": "code",
   "execution_count": null,
   "metadata": {},
   "outputs": [],
   "source": [
    "fig, ax, dat = psa.fbqc_heatmap(df,experimentID,\"relative_intensity_mean\",'t')"
   ]
  },
  {
   "cell_type": "code",
   "execution_count": null,
   "metadata": {},
   "outputs": [],
   "source": [
    "fig, ax = psa.plot_lines(df,experimentID,\"relative_intensity_mean\")"
   ]
  },
  {
   "attachments": {},
   "cell_type": "markdown",
   "metadata": {},
   "source": []
  }
 ],
 "metadata": {
  "kernelspec": {
   "display_name": "base",
   "language": "python",
   "name": "python3"
  },
  "language_info": {
   "codemirror_mode": {
    "name": "ipython",
    "version": 3
   },
   "file_extension": ".py",
   "mimetype": "text/x-python",
   "name": "python",
   "nbconvert_exporter": "python",
   "pygments_lexer": "ipython3",
   "version": "3.9.7"
  },
  "orig_nbformat": 4
 },
 "nbformat": 4,
 "nbformat_minor": 2
}
